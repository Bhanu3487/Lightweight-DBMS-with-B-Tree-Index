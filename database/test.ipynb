# File: test_task5.py

import sys
import os
from IPython.display import SVG, display # Keep if running parts in IPython later

# --- Add project root to path to allow imports ---
# This ensures that 'from database.xyz import ...' works
script_dir = os.path.dirname(__file__)
project_root = os.path.abspath(script_dir) # Assumes script is in project root
if project_root not in sys.path:
    sys.path.append(project_root)
# ---------------------------------------------------

try:
    from database.db_manager import DatabaseManager
    # Table might be implicitly tested via db_manager, but direct import can be useful
    from database.table import Table
except ModuleNotFoundError:
    print("Error: Could not import database modules.")
    print("Please ensure:")
    print("1. This script is in the 'db_management_system' project root directory.")
    print("2. The 'database' directory exists and contains '__init__.py'.")
    sys.exit(1)

print("--- Task 5 Test Script ---")

# 1. Initialize Database Manager
print("\n[1] Initializing Database Manager...")
db_manager = DatabaseManager()
print("-" * 20)

# 2. Database Operations
print("\n[2] Testing Database Operations...")
print("  Creating database 'school'...")
msg, success = db_manager.create_database('school')
assert success, f"Failed to create db: {msg}"
print("  Creating database 'company'...")
msg, success = db_manager.create_database('company')
assert success, f"Failed to create db: {msg}"
print("  Attempting to create duplicate database 'school'...")
msg, success = db_manager.create_database('school')
assert not success, "Should have failed to create duplicate db"
print(f"  Expected failure: {msg}")
print("  Listing databases...")
db_list, success = db_manager.list_databases()
assert success and 'school' in db_list and 'company' in db_list, "List databases failed or incorrect"
print("  Deleting database 'company'...")
msg, success = db_manager.delete_database('company')
assert success, f"Failed to delete db: {msg}"
print("  Attempting to delete non-existent database 'store'...")
msg, success = db_manager.delete_database('store')
assert not success, "Should have failed to delete non-existent db"
print(f"  Expected failure: {msg}")
print("  Listing databases again...")
db_list, success = db_manager.list_databases()
assert success and 'school' in db_list and 'company' not in db_list, "List databases after delete failed"
print("-" * 20)


# 3. Table Operations
print("\n[3] Testing Table Operations (in 'school' database)...")
student_schema = {
    "student_id": int, # Primary key for B+ Tree
    "name": str,
    "major": str,
    "gpa": float
}
course_schema = {
    "course_id": str, # Primary key for B+ Tree
    "title": str,
    "credits": int
}

print("  Creating table 'students'...")
msg, success = db_manager.create_table('school', 'students', student_schema, order=4, search_key="student_id")
assert success, f"Failed to create table: {msg}"
print("  Creating table 'courses'...")
msg, success = db_manager.create_table('school', 'courses', course_schema, order=3, search_key="course_id")
assert success, f"Failed to create table: {msg}"
print("  Attempting to create table 'students' again...")
msg, success = db_manager.create_table('school', 'students', student_schema, order=4, search_key="student_id")
assert not success, "Should have failed to create duplicate table"
print(f"  Expected failure: {msg}")
print("  Attempting to create table with invalid search key...")
msg, success = db_manager.create_table('school', 'failed_table', student_schema, order=4, search_key="invalid_key")
assert not success, "Should have failed with invalid search key"
print(f"  Expected failure: {msg}")
print("  Attempting to create table in non-existent database...")
msg, success = db_manager.create_table('no_db', 'failed_table', student_schema, order=4, search_key="student_id")
assert not success, "Should have failed with non-existent db"
print(f"  Expected failure: {msg}")

print("  Listing tables in 'school'...")
table_list, success = db_manager.list_tables('school')
assert success and 'students' in table_list and 'courses' in table_list, "List tables failed"

print("  Getting 'students' table object...")
student_table, success = db_manager.get_table('school', 'students')
assert success and isinstance(student_table, Table), "Failed to get table object"
print(f"  Got table object: {student_table.name}")

print("  Deleting 'courses' table...")
msg, success = db_manager.delete_table('school', 'courses')
assert success, f"Failed to delete table: {msg}"
print("  Listing tables again...")
table_list, success = db_manager.list_tables('school')
assert success and 'students' in table_list and 'courses' not in table_list, "List tables after delete failed"
print("-" * 20)


# 4. Record Operations (using 'students' table)
print("\n[4] Testing Record Operations (on 'students' table)...")
s1 = {"student_id": 101, "name": "Alice", "major": "CS", "gpa": 3.8}
s2 = {"student_id": 105, "name": "Bob", "major": "EE", "gpa": 3.5}
s3 = {"student_id": 102, "name": "Charlie", "major": "CS", "gpa": 3.9}
invalid_rec_type = {"student_id": 103, "name": "David", "major": "ME", "gpa": "Good"} # Wrong type
invalid_rec_missing = {"student_id": 104, "name": "Eve", "gpa": 3.1} # Missing major
s1_duplicate = {"student_id": 101, "name": "Alice B.", "major": "CE", "gpa": 3.7} # Duplicate ID

print("  Inserting valid records...")
success, msg = student_table.insert(s1)
assert success, f"Insert failed: {msg}"
success, msg = student_table.insert(s2)
assert success, f"Insert failed: {msg}"
success, msg = student_table.insert(s3)
assert success, f"Insert failed: {msg}"

print("  Attempting to insert duplicate key...")
success, msg = student_table.insert(s1_duplicate)
assert not success, "Should fail on duplicate key"
print(f"  Expected failure: {msg}")

print("  Attempting to insert record with wrong type...")
success, msg = student_table.insert(invalid_rec_type)
assert not success, "Should fail on wrong type"
print(f"  Expected failure: {msg}")

print("  Attempting to insert record with missing column...")
success, msg = student_table.insert(invalid_rec_missing)
assert not success, "Should fail on missing column"
print(f"  Expected failure: {msg}")

print("  Getting record with ID 105...")
record, found = student_table.get(105)
assert found and record == s2, "Failed to get record 105"
print(f"  Found: {record}")
print("  Getting record with ID 999 (non-existent)...")
record, found = student_table.get(999)
assert not found and record is None, "Should not find record 999"
print(f"  Found: {found}")

print("  Getting all records...")
all_records, success = student_table.get_all()
assert success and len(all_records) == 3, f"Get all failed or wrong count ({len(all_records)})"
# Check if sorted by student_id (B+ Tree property)
ids = [r['student_id'] for r in all_records]
assert ids == sorted(ids), f"Get all not sorted by key: {ids}"
print(f"  Found {len(all_records)} records.") # Order should be 101, 102, 105

print("  Updating record 102...")
s3_updated = {"student_id": 102, "name": "Charles", "major": "CS", "gpa": 4.0}
success, msg = student_table.update(102, s3_updated)
assert success, f"Update failed: {msg}"
record, found = student_table.get(102)
assert found and record == s3_updated, "Record not updated correctly"
print(f"  Updated record 102: {record}")

print("  Attempting to update non-existent record 999...")
success, msg = student_table.update(999, s1)
assert not success, "Should fail updating non-existent record"
print(f"  Expected failure: {msg}")

print("  Attempting to update search key...")
s1_bad_update = {"student_id": 111, "name": "Alice C.", "major": "CS", "gpa": 3.8}
success, msg = student_table.update(101, s1_bad_update) # Try to update ID 101 but change ID in data
assert not success, "Should fail updating search key"
print(f"  Expected failure: {msg}")

print("  Performing range query (101 to 103)...")
range_result, success = student_table.range_query(101, 103)
assert success, "Range query failed"
assert len(range_result) == 2, f"Range query returned wrong count: {len(range_result)}"
assert range_result[0]['student_id'] == 101 and range_result[1]['student_id'] == 102, "Range query result incorrect"
print(f"  Range query result: {[r['student_id'] for r in range_result]}")

print("  Deleting record 105...")
success, msg = student_table.delete(105)
assert success, f"Delete failed: {msg}"
record, found = student_table.get(105)
assert not found, "Record 105 not deleted"
print("  Attempting to delete record 105 again...")
success, msg = student_table.delete(105)
assert not success, "Should fail deleting non-existent record"
print(f"  Expected failure: {msg}")

print("  Getting all records after delete...")
all_records, success = student_table.get_all()
assert success and len(all_records) == 2, f"Get all after delete failed or wrong count ({len(all_records)})"
print(f"  Found {len(all_records)} records: {[r['student_id'] for r in all_records]}") # Should be 101, 102
print("-" * 20)

# 5. Visualization Test (Optional, requires graphviz)
print("\n[5] Testing Visualization...")
try:
    from graphviz import Digraph # Check import again
    dot = student_table.data.visualize_tree() # Access B+ Tree via table.data
    if dot:
        dot.render('task5_test_students_tree', format='png', view=False)
        print("  Saved student table B+ Tree visualization to 'task5_test_students_tree.png'")
    else:
        print("  Visualization object not created.")
except ImportError:
    print("  Graphviz library not found, skipping visualization test.")
except Exception as e:
    print(f"  Visualization failed: {e}")
    print("  (Ensure Graphviz executables are installed and in PATH if error occurred)")
print("-" * 20)


print("\n--- Task 5 Test Script Complete ---")